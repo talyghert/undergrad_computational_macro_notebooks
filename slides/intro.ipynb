{
  "cells": [
    {
      "cell_type": "markdown",
      "id": "92864466-9451-49c7-8307-df22ff1dbe7f",
      "metadata": {},
      "source": [
        "# Course Overview and Computational Environment\n",
        "\n",
        "Undergraduate Computational Macro\n",
        "\n",
        "Jesse Perla (University of British Columbia)\n",
        "\n",
        "# Course Overview and Objectives\n",
        "\n",
        "## Course Structure and Prerequisites\n",
        "\n",
        "-   “Macroconomics on a computer”. Mostly macro-finance and macro-labor\n",
        "    -   Not an intro to programming course or stats/econometrics class\n",
        "    -   Less programming than ECON323, more math and theory\n",
        "-   Build experience with computational tools and structural models in\n",
        "    macroeconomics which can help you conduct “counterfactuals”\n",
        "    -   Lots of simulation, but not much data or empirics\n",
        "    -   Complement to other courses focusing on “field” topics,\n",
        "        empirics, estimation, inference, datascience, etc.\n",
        "\n",
        "## Prerequisites\n",
        "\n",
        "-   You need to have\n",
        "    -   One of ECON 301, ECON 304, ECON 308\n",
        "    -   One of ECON 323, CPSC 103, CPSC 110, MATH 210, COMM 337\n",
        "    -   One of MATH 221, MATH 223.\n",
        "-   **Not negotiable** to have intermediate micro\n",
        "-   **Not negotiable** to have the formal programming class in some\n",
        "    general purpose language (e.g., Stata and R don’t count, self-study\n",
        "    isn’t enough)\n",
        "-   Math requirement you can talk to me, especially if you took ECON307\n",
        "    or have significant background in linear algebra and multivariate\n",
        "    calculus\n",
        "\n",
        "## Assessments\n",
        "\n",
        "-   Grading:\n",
        "    -   6-8 problem sets: 20% (total)\n",
        "    -   Midterm exam: 30%\n",
        "    -   Final exam: 50%\n",
        "-   Midterm and final examinations will be done in a computer lab or on\n",
        "    your own computer in class. Not testing programming skills\n",
        "-   Problem sets will start off short and easy to help those with less\n",
        "    programming experience, and then build in (economics) complexity.\n",
        "-   See the [syllabus](../pages/syllabus.qmd) for missed exam policies\n",
        "\n",
        "# Programming Languages\n",
        "\n",
        "## Which Language?\n",
        "\n",
        "-   Plenty of languages used in economics and finance: Matlab, Python,\n",
        "    Julia, Fortran, C++, Stata, Dynare, R, Stan…\n",
        "    -   All are great for some things, and terrible for others\n",
        "    -   Some are highly specialized and less general purpose than others\n",
        "        (e.g. Stata and R)\n",
        "-   I love specialized languages! But…\n",
        "    -   My philosophy is you will need to learn **at least** two general\n",
        "        purpose programming languages over your career.\n",
        "\n",
        "## Benefits of Learning more Languages\n",
        "\n",
        "Plan for your longrun career, languages come and go…\n",
        "\n",
        "-   The 2nd language makes you a better programmer at both\n",
        "-   The 3rd is even easier as you learn similarities and differences\n",
        "-   On grad school or job applications everyone says they know Python\n",
        "    -   Differentiator to credibly claim you know another serious\n",
        "        language\n",
        "    -   Increasingly important to **signal** computational\n",
        "        sophistication to get jobs\n",
        "    -   Julia is as good as any for that purpose\n",
        "\n",
        "## Advantages of Learning Julia for Economics and Finance\n",
        "\n",
        "-   Python is great for datascience and ML, but “ugly”, verbose, and\n",
        "    slow to use directly for many simulations and computational methods\n",
        "    -   Python wrappers for high-performance code used in ML are great\n",
        "    -   But when an appropriate framework doesn’t exist, writing fast\n",
        "        code yourself in Python is much harder than in Julia\n",
        "    -   Performance in Python usually means C++ or frameworks like JAX\n",
        "-   Julia (and Matlab) is more natural for programming mathematics than\n",
        "    Python. Easier to learn than alternative Python packages.\n",
        "-   Many in economists and finance research use Julia for computational\n",
        "    methods, so it may help you directly\n",
        "\n",
        "## Don’t Worry If You are New to Programming\n",
        "\n",
        "-   Costs of learning languages has decreasing returns to scale\n",
        "    -   Learning the **first programming language is the hardest**\n",
        "-   Julia will come easily if you have the prerequisities (i.e. a course\n",
        "    using Matlab or Python, sadly R is not sufficient preparation)\n",
        "-   Submitting your code in Matlab or Python is not possible given the\n",
        "    course structure and infrastructure\n",
        "\n",
        "# Quantitative, Empirical, and Theoretical Economics\n",
        "\n",
        "## Why Isn’t Big Data ML/Statistics Enough?\n",
        "\n",
        "-   Going well before the big data/ML revolution economists asked\n",
        "    whether they could just use statistical models with enough data\n",
        "    -   Answer: only if you had the right (statistical) model for a\n",
        "        particular experiment, but historical data doesn’t have\n",
        "        variation in crucial directions\n",
        "    -   The right “statistical model” would need to reflect that humans\n",
        "        adapt and make forecasts - responding to policy and incentives\n",
        "    -   Especially difficult in macro because of dynamics and GE effects\n",
        "    -   Cowles Commision, Lucas Critique, Policy Ineffectiveness\n",
        "        Proposition (Sargent and Wallace), Time Inconsistency (Kydland\n",
        "        and Prescott)\n",
        "-   Having more data and fancier statistics doesn’t solve these problems\n",
        "\n",
        "## Forecasts and Distributions\n",
        "\n",
        "-   Summary: conducting experiments with a data generating process (DGP)\n",
        "    is fine, but how to find the right one **for a given problem**?  \n",
        "-   Think probabilistically: the world is a joint distribution of\n",
        "    observables, unobservables (i.e., latent variables), shocks, and\n",
        "    parameters\n",
        "-   Joint distributions let you calculate conditional expectations and\n",
        "    conduct “experiments” by conditioning on different events\n",
        "-   Statistics and machine learning is often criticized as being only\n",
        "    about “prediction” and sometimes “inference”\n",
        "    -   This isn’t quite true, but lets us ask what prediction really\n",
        "        means\n",
        "\n",
        "## Counterfactuals: “What If?”\n",
        "\n",
        "-   Most interesting problems in economics are about counterfactuals\n",
        "    -   What would unemployment have been if the government had not\n",
        "        intervened during the recession?\n",
        "    -   What would have been her income if she had not gone to college,\n",
        "        or if she wasn’t subjected to gender bias?\n",
        "-   By definition these are not observable. If we had the data already\n",
        "    we wouldn’t need to ponder these “What if?”\n",
        "-   How can you answer a question with data that doesn’t exist?"
      ]
    },
    {
      "cell_type": "code",
      "execution_count": null,
      "id": "c1cc4b7a-0dbe-45f1-8398-db0245c87800",
      "metadata": {
        "raw_mimetype": "text/html"
      },
      "outputs": [],
      "source": [
        "<center>"
      ]
    },
    {
      "cell_type": "markdown",
      "id": "954a7cd8-1b78-45d4-8842-a506601165df",
      "metadata": {},
      "source": [
        "**YOU HAVE TO MAKE SOMETHING UP**"
      ]
    },
    {
      "cell_type": "code",
      "execution_count": null,
      "id": "d48838be-f740-478b-b562-4c8b74f06ab0",
      "metadata": {
        "raw_mimetype": "text/html"
      },
      "outputs": [],
      "source": [
        "</center>"
      ]
    },
    {
      "cell_type": "markdown",
      "id": "e2fed7c7-a856-4a61-8871-8f0c1d85e49e",
      "metadata": {},
      "source": [
        "## The Role of Theory\n",
        "\n",
        "-   There is no data interpretation without some theory - even if it is\n",
        "    sometimes implicit. Interpreting empirical results require\n",
        "    self-reflection\n",
        "-   The role of both data and theory is then to help constrain the set\n",
        "    of possible counterfactuals for the “what if?”\n",
        "-   So any criticisms of ML or statistics as “merely prediction” are\n",
        "    basically a statement on whether the theory makes sense\n",
        "    -   i.e., if you fit $y = f(X) + \\epsilon$ on data to find a\n",
        "        $\\hat{f}(X)$ function, then theory tells you if you made the\n",
        "        right assumptions (e.g., that the $X$ data is representative and\n",
        "        wouldn’t change for your counterfactual of interest, etc)\n",
        "\n",
        "## Approach in this Course\n",
        "\n",
        "-   Always remember: you need assumptions in one form or another because\n",
        "    the counterfactuals are inherently not in the data\n",
        "-   Broadly there are three approaches to conducting counterfactuals.\n",
        "    They are not mutually exclusive\n",
        "    1.  Structural models emphasize theory as structure on the joint\n",
        "        distribution\n",
        "    2.  Causal inference using matching, instrumental variables, etc.\n",
        "        which use theoretical assumptions on independence to adjust for\n",
        "        bias and missing unobservable (latent) variables\n",
        "    3.  Randomized Experiments/Treatment Effects where you can get good\n",
        "        data which truly randomizes some sort of “treatment”.\n",
        "-   In this course we will focus on **simulations and structural\n",
        "    models** - sometimes called “quantitative economics”\n",
        "\n",
        "## Macroeconomic Models Require Lots of Tools\n",
        "\n",
        "-   Conducting macroeconomic counterfactuals requires a lot of tools\n",
        "    because\n",
        "    -   Macroeconomic decisions are dynamic and often stochastic\n",
        "    -   Agents are forward looking\n",
        "    -   Agents interact through markets and prices, which creates\n",
        "        “general equilibrium” effects (i.e., which are inherently\n",
        "        nonlinear)\n",
        "    -   Heterogeneity leads to the distributional being crucial\n",
        "    -   Agent’s may respond to policies by thinking through the dynamic\n",
        "        effects\n",
        "-   We formalize these assumptions with math, but we are rarely able to\n",
        "    solve them analytically. Use a computer!\n",
        "\n",
        "## Tools Topics\n",
        "\n",
        "See Syllabus for more details\n",
        "\n",
        "1.  Linear algebra and basic scientific computing\n",
        "2.  Geometric Series and Discrete Time Dynamics\n",
        "3.  Basic Stochastic Processes\n",
        "4.  Linear State Space Models\n",
        "5.  Markov Chains\n",
        "6.  Dynamic Programming\n",
        "\n",
        "## Applications Topics\n",
        "\n",
        "The tools are interleaved with applications such as\n",
        "\n",
        "1.  Marginal Propensity to Consume\n",
        "2.  Dynamics of Wealth and Distributions\n",
        "3.  Permanent Income Model\n",
        "4.  Models of Unemployment\n",
        "5.  Asset Pricing\n",
        "6.  Lucas Trees and No-arbitrage Option Pricing\n",
        "7.  Recursive Equilibria and the McCall Search Model\n",
        "8.  Time permitting: Rational Expectations and Firm Equilibria, Growth\n",
        "    Models\n",
        "\n",
        "# Computational Environment\n",
        "\n",
        "## Setup\n",
        "\n",
        "-   You can install Julia on your laptop by following [these\n",
        "    instructions](https://julia.quantecon.org/getting_started_julia/getting_started.html)\n",
        "-   While one can use Julia entirely from just Jupyter notebooks, we\n",
        "    will also introduce basic [GitHub](https://github.com/) and [VS\n",
        "    Code](https://code.visualstudio.com/) usage as well to help broaden\n",
        "    your exposure to computational tools.\n",
        "-   So my suggestion is to challenge yourself to learn VS Code, GitHub,\n",
        "    and other tools. Further **signalling** for RA/predoc/jobs/etc.\n",
        "\n",
        "## Summary of Installation\n",
        "\n",
        "1.  Install\n",
        "    [Git](https://git-scm.com/book/en/v2/Getting-Started-Installing-Git/)\n",
        "2.  Install [Anaconda](https://www.anaconda.com/download)\n",
        "3.  Install Julia with\n",
        "    [juliaup](https://github.com/JuliaLang/juliaup#installation)\n",
        "    -   Windows: easiest method is `winget install julia -s msstore` in\n",
        "        a Windows terminal\n",
        "    -   Linux/Mac: in a terminal use\n",
        "        `curl -fsSL https://install.julialang.org | sh`\n",
        "4.  Install [Visual Studio Code (VS\n",
        "    Code)](https://code.visualstudio.com/)\n",
        "5.  Install the [VS Code\n",
        "    Julia](https://marketplace.visualstudio.com/items?itemName=julialang.language-julia)\n",
        "    extension\n",
        "\n",
        "## Clone Notebooks and Install Packages\n",
        "\n",
        "1.  Open the command palette with `<Ctrl+Shift+P>` or `<Cmd+Shift+P>` on\n",
        "    mac and type `> Git: Clone` and choose\n",
        "    `https://github.com/jlperla/undergrad_computational_macro_notebooks`\n",
        "\n",
        "2.  Instantiate packages, in VSCode or\n",
        "\n",
        "    -   Run a terminal in that directory\n",
        "    -   Then `julia` and `]` enters package mode\n",
        "    -   `] add IJulia`, which adds to global environment\n",
        "    -   `] activate`, which chooses the `Project.toml` file\n",
        "    -   `] instantiate`\n",
        "\n",
        "3.  Then use VS Code or `jupyter lab` to open\n",
        "\n",
        "## Julia Environment Basics\n",
        "\n",
        "-   Project files keep track of dependencies and make things\n",
        "    reproducible\n",
        "    -   Similar to Python’s virtual environments but easier to use\n",
        "-   VS Code and Jupyter will automatically activate a `Project.toml`\n",
        "    -   In REPL or Jupyter enter `]` for managing packages\n",
        "    -   Can manually activate with `] activate` or\n",
        "        `] activate path/to/project`\n",
        "    -   On commandline, can use `julia --project`\n",
        "    -   If a file doesn’t exist, then `]activate` creates one for the\n",
        "        folder\n",
        "-   With activated project, use `] instantiate` to install all the\n",
        "    packages\n",
        "-   For this course: no package management required after instantiation\n",
        "\n",
        "## Reproducibility\n",
        "\n",
        "-   **ALWAYS** use a `Project.toml` file\n",
        "    -   Keep your global environment as clean\n",
        "    -   Enough to do `] add IJulia`\n",
        "-   Associated with `Project.toml` is a `Manifest.toml` file which\n",
        "    establishes the exact versions for reproducibility\n",
        "    -   `] instantiate` will install the exact versions\n",
        "    -   Less important for us, but very useful for reproducibility in\n",
        "        research to distribute with project\n",
        "\n",
        "# Crash Course on Julia\n",
        "\n",
        "## Introductory Lectures\n",
        "\n",
        "-   Assuming you are familiar with Matlab or Python, Julia will be easy\n",
        "    to learn\n",
        "-   Adapted from QuantEcon lectures coauthored with John Stachurski and\n",
        "    Thomas J. Sargent\n",
        "    -   [Julia by\n",
        "        Example](https://julia.quantecon.org/getting_started_julia/julia_by_example.html)\n",
        "    -   [Essentials](https://julia.quantecon.org/julia_essentials.html)\n",
        "    -   [Fundamental\n",
        "        Types](https://julia.quantecon.org/getting_started_julia/fundamental_types.html)\n",
        "\n",
        "## Using Packages\n",
        "\n",
        "-   First ensure your project is activated and packages instantiated"
      ]
    },
    {
      "cell_type": "code",
      "execution_count": 2,
      "id": "0edd9d5e",
      "metadata": {},
      "outputs": [],
      "source": [
        "using LinearAlgebra, Statistics, Plots"
      ]
    },
    {
      "cell_type": "markdown",
      "id": "35cfc0e0-2914-40e2-9366-ba5952094b94",
      "metadata": {},
      "source": [
        "## Plotting Random Numbers"
      ]
    },
    {
      "cell_type": "code",
      "execution_count": 3,
      "id": "a4211478",
      "metadata": {
        "output-location": "column"
      },
      "outputs": [
        {
          "data": {
            "text/html": [
              "<img src=\"data:image/png;base64,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\" />"
            ]
          },
          "metadata": {},
          "output_type": "display_data"
        }
      ],
      "source": [
        "n = 20\n",
        "ep = randn(n)\n",
        "plot(1:n, ep;size=(600,400))"
      ]
    },
    {
      "cell_type": "markdown",
      "id": "3d93d7d9-b99a-43ba-abd1-387cd69f704c",
      "metadata": {},
      "source": [
        "## Loops"
      ]
    },
    {
      "cell_type": "code",
      "execution_count": 4,
      "id": "53cd5f8a",
      "metadata": {},
      "outputs": [
        {
          "name": "stdout",
          "output_type": "stream",
          "text": [
            "[0.05233509257566048, -0.37921088126562086, -0.25477375107341244, -0.19416024234933837, -0.19318873262635328]"
          ]
        }
      ],
      "source": [
        "n = 100\n",
        "ep = zeros(n)\n",
        "for i in 1:n\n",
        "    ep[i] = randn()\n",
        "end\n",
        "println(ep[1:5])"
      ]
    },
    {
      "cell_type": "markdown",
      "id": "1f7154ef-bdd8-4629-b240-6c9c0c169ac0",
      "metadata": {},
      "source": [
        "## Comprehensions"
      ]
    },
    {
      "cell_type": "code",
      "execution_count": 5,
      "id": "e625ce6e",
      "metadata": {},
      "outputs": [
        {
          "name": "stdout",
          "output_type": "stream",
          "text": [
            "[2i for i = 1:4] = [2, 4, 6, 8]"
          ]
        }
      ],
      "source": [
        "# Comprehensions\n",
        "@show [2 * i for i in 1:4];"
      ]
    },
    {
      "cell_type": "markdown",
      "id": "f82984a8-7d1e-49f1-b380-1301440c8b9b",
      "metadata": {},
      "source": [
        "## Manually Calculated Mean"
      ]
    },
    {
      "cell_type": "code",
      "execution_count": 6,
      "id": "e6f7fc41",
      "metadata": {},
      "outputs": [
        {
          "name": "stdout",
          "output_type": "stream",
          "text": [
            "ep_mean = ep_sum / length(ep) = 0.05917538135945666\n",
            "ep_mean ≈ mean(ep) = true\n",
            "ep_mean = 0.05917538135945666\n",
            "sum(ep) / length(ep) = 0.0591753813594567\n",
            "sum((ep_val for ep_val = ep)) / length(ep) = 0.05917538135945666"
          ]
        }
      ],
      "source": [
        "ep_sum = 0.0 # careful to use 0.0 here, instead of 0\n",
        "for ep_val in ep\n",
        "    ep_sum = ep_sum + ep_val\n",
        "end\n",
        "@show ep_mean = ep_sum / length(ep)\n",
        "@show ep_mean ≈ mean(ep)\n",
        "@show ep_mean\n",
        "@show sum(ep) / length(ep)\n",
        "@show sum(ep_val for ep_val in ep) / length(ep); # generator/comprehension"
      ]
    },
    {
      "cell_type": "markdown",
      "id": "ee1d0bac-f400-4446-a3ee-9b113d450da3",
      "metadata": {},
      "source": [
        "## Functions"
      ]
    },
    {
      "cell_type": "code",
      "execution_count": 7,
      "id": "afe72f2f",
      "metadata": {},
      "outputs": [
        {
          "name": "stdout",
          "output_type": "stream",
          "text": [
            "[0.05791941052296715, 1.7387260318266236, 3.322000243188746, 0.0007708600451066666, 0.2143251800183748]"
          ]
        }
      ],
      "source": [
        "function generatedata(n)\n",
        "    ep = randn(n) # use built in function\n",
        "    for i in eachindex(ep) # or i in 1:length(ep)\n",
        "        ep[i] = ep[i]^2 # squaring the result\n",
        "    end\n",
        "    return ep\n",
        "end\n",
        "data = generatedata(5)\n",
        "println(data)"
      ]
    },
    {
      "cell_type": "markdown",
      "id": "534428a1-79a2-4e1d-a46d-155785a49566",
      "metadata": {},
      "source": [
        "## Broadcasting"
      ]
    },
    {
      "cell_type": "code",
      "execution_count": 8,
      "id": "0068e5e0",
      "metadata": {},
      "outputs": [
        {
          "name": "stdout",
          "output_type": "stream",
          "text": [
            "generatedata(5) = [0.001517638221335384, 0.26953378319534793, 0.32192411787103087, 0.07320438634012431, 1.3485444847787926]\n",
            "generatedata2(5) = [0.05004132209492369, 0.01990300609422422, 0.1790120227903138, 5.074887819801164, 0.6718631898178932]"
          ]
        }
      ],
      "source": [
        "function generatedata(n)\n",
        "    ep = randn(n) # use built in function\n",
        "    return ep .^ 2\n",
        "end\n",
        "@show generatedata(5)\n",
        "generatedata2(n) = randn(n) .^ 2\n",
        "@show generatedata2(5);"
      ]
    },
    {
      "cell_type": "markdown",
      "id": "36d04472-00e4-4a9f-8c24-38e20fb086e8",
      "metadata": {},
      "source": [
        "## Higher Order Functions"
      ]
    },
    {
      "cell_type": "code",
      "execution_count": 9,
      "id": "16649dd0",
      "metadata": {},
      "outputs": [
        {
          "name": "stdout",
          "output_type": "stream",
          "text": [
            "generatedata3(5, f) = [0.5126911201799745, 0.3045611144923869, 0.6309563284350113, 1.8195517324819845, 0.3567031295466728]"
          ]
        }
      ],
      "source": [
        "generatedata3(n, gen) = gen.(randn(n)) # broadcasts on gen\n",
        "f(x) = x^2 # simple square function\n",
        "@show generatedata3(5, f); # applies f"
      ]
    },
    {
      "cell_type": "markdown",
      "id": "f7cdffd0-96b8-4103-bbe2-1c480b42d898",
      "metadata": {},
      "source": [
        "## More Plotting Examples"
      ]
    },
    {
      "cell_type": "code",
      "execution_count": 10,
      "id": "e9427458",
      "metadata": {
        "output-location": "column"
      },
      "outputs": [
        {
          "data": {
            "text/html": [
              "<img src=\"data:image/png;base64,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\" />"
            ]
          },
          "metadata": {},
          "output_type": "display_data"
        }
      ],
      "source": [
        "using Distributions\n",
        "function plothistogram(dist, n)\n",
        "    # n draws from distribution\n",
        "    ep = rand(dist, n) \n",
        "    return histogram(ep;size=(600,400))\n",
        "end\n",
        "dist = Laplace() # dist != dist in function\n",
        "plothistogram(dist, 500)"
      ]
    },
    {
      "cell_type": "markdown",
      "id": "e28631ed-c0ae-492a-8b07-7952997cbbe4",
      "metadata": {},
      "source": [
        "## Changing Types\n",
        "\n",
        "-   The `rand(dist, n)` changes its behavior based on the type of `dist`"
      ]
    },
    {
      "cell_type": "code",
      "execution_count": 11,
      "id": "60a27c6b",
      "metadata": {
        "output-location": "column"
      },
      "outputs": [
        {
          "data": {
            "text/html": [
              "<img src=\"data:image/png;base64,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\" />"
            ]
          },
          "metadata": {},
          "output_type": "display_data"
        }
      ],
      "source": [
        "dist = Normal()\n",
        "plothistogram(Normal(), 500)"
      ]
    },
    {
      "cell_type": "markdown",
      "id": "1f97658d-546a-4ad5-97fa-6c39313fb40e",
      "metadata": {},
      "source": [
        "## Ranges"
      ]
    },
    {
      "cell_type": "code",
      "execution_count": 12,
      "id": "8cebf800",
      "metadata": {
        "output-location": "column"
      },
      "outputs": [
        {
          "name": "stdout",
          "output_type": "stream",
          "text": [
            "x = 0.0:0.25:1.0\n",
            "Vector(x) = [0.0, 0.25, 0.5, 0.75, 1.0]"
          ]
        },
        {
          "data": {
            "text/html": [
              "<img src=\"data:image/png;base64,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\" />"
            ]
          },
          "metadata": {},
          "output_type": "display_data"
        }
      ],
      "source": [
        "x = range(0.0, 1.0; length = 5)\n",
        "@show x\n",
        "@show Vector(x)\n",
        "plot(x, sqrt.(x);size=(600,400))"
      ]
    },
    {
      "cell_type": "markdown",
      "id": "f82170a0-6280-41e4-8f32-cc119ae8563e",
      "metadata": {},
      "source": [
        "## Defining Functions\n",
        "\n",
        "-   You can create anonymous functions as in R, but it is harder for the\n",
        "    compiler because the type `f3` can change. Avoid `->` if name\n",
        "    required"
      ]
    },
    {
      "cell_type": "code",
      "execution_count": 13,
      "id": "59c117a0",
      "metadata": {},
      "outputs": [
        {
          "name": "stdout",
          "output_type": "stream",
          "text": [
            "(f(2), f2(2), f3(2)) = (4, 4, 4)"
          ]
        }
      ],
      "source": [
        "f(x) = x^2\n",
        "function f2(x)\n",
        "    return x^2\n",
        "end\n",
        "f3 = x -> x^2 # assignment not required\n",
        "@show f(2), f2(2), f3(2);"
      ]
    },
    {
      "cell_type": "markdown",
      "id": "2a604e28-0a6d-4ee5-8583-678fcef455d0",
      "metadata": {},
      "source": [
        "## Default Arguments"
      ]
    },
    {
      "cell_type": "code",
      "execution_count": 14,
      "id": "8fe0d435",
      "metadata": {},
      "outputs": [
        {
          "name": "stdout",
          "output_type": "stream",
          "text": [
            "f(pi) = 0.36787944117144233\n",
            "f(pi, 2) = 2.718281828459045"
          ]
        }
      ],
      "source": [
        "f(x, a = 1) = exp(cos(a * x))\n",
        "@show f(pi)\n",
        "@show f(pi, 2);"
      ]
    },
    {
      "cell_type": "markdown",
      "id": "5cb895d1-0408-494c-a020-8d0277b23ba5",
      "metadata": {},
      "source": [
        "## Keyword Arguments"
      ]
    },
    {
      "cell_type": "code",
      "execution_count": 15,
      "id": "a2434ba4",
      "metadata": {},
      "outputs": [
        {
          "name": "stdout",
          "output_type": "stream",
          "text": [
            "f(pi) = 0.36787944117144233\n",
            "f(pi; a = 2) = 2.718281828459045\n",
            "f(pi; a) = 2.718281828459045"
          ]
        }
      ],
      "source": [
        "f2(x; a = 1) = exp(cos(a * x))  # note the ; in the definition\n",
        "# same as longform\n",
        "function f(x; a = 1)\n",
        "    return exp(cos(a * x))\n",
        "end\n",
        "@show f(pi)\n",
        "@show f(pi; a = 2) # passing in adate\n",
        "a = 2\n",
        "@show f(pi; a); # equivalent to f(pi; a = a)"
      ]
    },
    {
      "cell_type": "markdown",
      "id": "4892ca2a-c86d-43a6-8228-238db6836557",
      "metadata": {},
      "source": [
        "## Closures\n",
        "\n",
        "-   In general, try to avoid globals and closures outside of functions"
      ]
    },
    {
      "cell_type": "code",
      "execution_count": 16,
      "id": "329a90f2",
      "metadata": {},
      "outputs": [
        {
          "name": "stdout",
          "output_type": "stream",
          "text": [
            "f(1) = 0.2\n",
            "f(1) = 0.3"
          ]
        }
      ],
      "source": [
        "a = 0.2\n",
        "f(x) = a * x^2  # refers to the `a` in the outer scope\n",
        "@show f(1)\n",
        "# The a is captured in this scope by name.  Careful!\n",
        "a = 0.3\n",
        "@show f(1);"
      ]
    },
    {
      "cell_type": "markdown",
      "id": "16fc2927-fb26-4a7d-89f7-77aa06641471",
      "metadata": {},
      "source": [
        "## Closures Inside Functions\n",
        "\n",
        "-   But within a function they are safe, common, and usually free of\n",
        "    overhead"
      ]
    },
    {
      "cell_type": "code",
      "execution_count": 17,
      "id": "e0cb3b46",
      "metadata": {},
      "outputs": [
        {
          "name": "stdout",
          "output_type": "stream",
          "text": [
            "g(0.2) = 0.2"
          ]
        }
      ],
      "source": [
        "function g(a)\n",
        "    f(x) = a * x^2  # refers to the `a` passed in the function\n",
        "    return f(1)\n",
        "end\n",
        "a = 123.5 # Different scope than the `a` in function\n",
        "@show g(0.2);"
      ]
    },
    {
      "cell_type": "markdown",
      "id": "48e811a9-75b3-4be4-ada1-045bf99b9821",
      "metadata": {},
      "source": [
        "## Tuples and Named Tuples"
      ]
    },
    {
      "cell_type": "code",
      "execution_count": 18,
      "id": "60b5915d",
      "metadata": {},
      "outputs": [
        {
          "name": "stdout",
          "output_type": "stream",
          "text": [
            "t[1] = 1\n",
            "nt = (a = 1, b = 2.0, c = \"hello\")\n",
            "nt.a = 1"
          ]
        }
      ],
      "source": [
        "t = (1, 2.0, \"hello\")\n",
        "@show t[1]\n",
        "nt = (;a = 1, b = 2.0, c = \"hello\")\n",
        "@show nt\n",
        "@show nt.a; # can't use nt[1] or nt[\"a\"]"
      ]
    },
    {
      "cell_type": "markdown",
      "id": "abde33c3-bb82-4995-97e3-2386b92daa43",
      "metadata": {},
      "source": [
        "## Tuples Packing and Unpacking"
      ]
    },
    {
      "cell_type": "code",
      "execution_count": 19,
      "id": "3b058ae0",
      "metadata": {},
      "outputs": [
        {
          "name": "stdout",
          "output_type": "stream",
          "text": [
            "solve_model(0.1) = (a = 0.010000000000000002, b = 0.020000000000000004, c = 0.030000000000000006)\n",
            "a = 0.010000000000000002, c = 0.030000000000000006"
          ]
        }
      ],
      "source": [
        "function solve_model(x)\n",
        "    a = x^2\n",
        "    b = 2 * a\n",
        "    c = a + b\n",
        "    return (; a, b, c)  # note local scope of tuples!\n",
        "end\n",
        "@show solve_model(0.1)\n",
        "# can unpack in different order, or use subset of values\n",
        "(; c, a) = solve_model(0.1)\n",
        "println(\"a = $a, c = $c\");"
      ]
    },
    {
      "cell_type": "markdown",
      "id": "2374e3f6-933e-49fd-81c6-01d355972eb4",
      "metadata": {},
      "source": [
        "## Array Basics"
      ]
    },
    {
      "cell_type": "code",
      "execution_count": 20,
      "id": "9c2f6abf",
      "metadata": {
        "output-location": "column"
      },
      "outputs": [
        {
          "name": "stdout",
          "output_type": "stream",
          "text": [
            "size(b) = (3,)\n",
            "size(A) = (2, 2)\n",
            "typeof(b) = Vector{Float64}\n",
            "typeof(A) = Matrix{Int64}\n",
            "zeros(3) = [0.0, 0.0, 0.0]\n",
            "ones(2, 2) = [1.0 1.0; 1.0 1.0]\n",
            "fill(1.0, 2, 2) = [1.0 1.0; 1.0 1.0]\n",
            "similar(A) = [140101263986432 140099938059760; 140101436883072 140101436882624]\n",
            "A[1, 1] = 1\n",
            "A[1, :] = [1, 2]\n",
            "A[1:end, 1] = [1, 3]"
          ]
        }
      ],
      "source": [
        "b = [1.0, 2.1, 3.0] # 1d array\n",
        "A = [1 2; 3 4] # 2x2 matrix\n",
        "@show size(b)\n",
        "@show size(A)\n",
        "@show typeof(b)\n",
        "@show typeof(A)\n",
        "@show zeros(3)\n",
        "@show ones(2, 2)\n",
        "@show fill(1.0, 2, 2)\n",
        "@show similar(A)\n",
        "@show A[1, 1]\n",
        "@show A[1, :]\n",
        "@show A[1:end, 1];"
      ]
    },
    {
      "cell_type": "markdown",
      "id": "616775f6-3f63-480d-ae0e-a24d0dafc4bb",
      "metadata": {},
      "source": [
        "## Linear Algebra Basics"
      ]
    },
    {
      "cell_type": "code",
      "execution_count": 21,
      "id": "76e9b615",
      "metadata": {
        "output-location": "column"
      },
      "outputs": [
        {
          "name": "stdout",
          "output_type": "stream",
          "text": [
            "A * b = [5, 11]\n",
            "A' = [1 3; 2 4]\n",
            "dot(b, [5.0, 2.0]) = 9.0\n",
            "b' * b = 5\n",
            "Diagonal([1.0, 2.0]) = [1.0 0.0; 0.0 2.0]\n",
            "I = UniformScaling{Bool}(true)\n",
            "inv(A) = [-1.9999999999999996 0.9999999999999998; 1.4999999999999998 -0.4999999999999999]"
          ]
        }
      ],
      "source": [
        "A = [1 2; 3 4]\n",
        "b = [1, 2]\n",
        "@show A * b # Matrix product\n",
        "@show A' # transpose\n",
        "@show dot(b, [5.0, 2.0]) # dot product\n",
        "@show b' * b # dot product\n",
        "@show Diagonal([1.0, 2.0]) # diagonal matrix\n",
        "@show I # identity matrix\n",
        "@show inv(A); # inverse"
      ]
    },
    {
      "cell_type": "markdown",
      "id": "a0a5c649-fa45-4d3d-ac4b-235dc8853355",
      "metadata": {},
      "source": [
        "## Modifying Vectors\n",
        "\n",
        "-   Scalars and tuples/named tuples are immutable\n",
        "-   Vectors and matrices are mutable"
      ]
    },
    {
      "cell_type": "code",
      "execution_count": 22,
      "id": "64b28941",
      "metadata": {
        "output-location": "column"
      },
      "outputs": [
        {
          "name": "stdout",
          "output_type": "stream",
          "text": [
            "A = [2 2; 3 4]\n",
            "b = [2, 2]\n",
            "b = [3, 4]\n",
            "A = [3 4; 3 4]"
          ]
        }
      ],
      "source": [
        "A = [1 2; 3 4]\n",
        "A[1, 1] = 2\n",
        "@show A\n",
        "b = [1, 2]\n",
        "b[1] = 2\n",
        "@show b\n",
        "b .= [3, 4] # otherwise just renamed\n",
        "@show b\n",
        "A[1, :] .= [3, 4] # assign slice\n",
        "@show A;"
      ]
    },
    {
      "cell_type": "markdown",
      "id": "1084b9ce-22af-40a4-997d-c97031cd2e26",
      "metadata": {},
      "source": [
        "## Learning More\n",
        "\n",
        "-   Clone the QuantEcon lectures\n",
        "    -   `> Git: Clone` the\n",
        "        `https://github.com/quantecon/lecture-julia.notebooks`\n",
        "-   This covers part of [Julia\n",
        "    Essentials](https://julia.quantecon.org/getting_started_julia/julia_essentials.html)\n",
        "    and [Fundamental\n",
        "    Types](https://julia.quantecon.org/getting_started_julia/fundamental_types.html)\n",
        "-   Other more advanced lectures, not required for this course, are\n",
        "    -   [Introduction to Types and Generic\n",
        "        Programming](https://julia.quantecon.org/more_julia/generic_programming.html)\n",
        "    -   [Generic\n",
        "        Programming](https://julia.quantecon.org/more_julia/generic_programming.html)\n",
        "    -   [Visual Studio and Other\n",
        "        Tools](https://julia.quantecon.org/software_engineering/tools_editors.html)"
      ]
    }
  ],
  "metadata": {
    "kernelspec": {
      "display_name": "Julia 1.11.2",
      "language": "julia",
      "name": "julia-1.11"
    },
    "language_info": {
      "file_extension": ".jl",
      "mimetype": "application/julia",
      "name": "julia",
      "version": "1.11.2"
    }
  },
  "nbformat": 4,
  "nbformat_minor": 5
}
